{
  "nbformat": 4,
  "nbformat_minor": 0,
  "metadata": {
    "colab": {
      "name": "Week_1_Question_1.ipynb",
      "provenance": []
    },
    "kernelspec": {
      "name": "python3",
      "display_name": "Python 3"
    },
    "language_info": {
      "name": "python"
    }
  },
  "cells": [
    {
      "cell_type": "code",
      "execution_count": 11,
      "metadata": {
        "colab": {
          "base_uri": "https://localhost:8080/"
        },
        "id": "nOSrpJ9lMCM3",
        "outputId": "5e13fdf4-7b8c-457c-c9fd-af70537f8ec6"
      },
      "outputs": [
        {
          "output_type": "stream",
          "name": "stdout",
          "text": [
            "Input an integer: 2\n",
            "2 is even\n",
            "2X1=2\n",
            "2X2=4\n",
            "2X3=6\n",
            "2X4=8\n",
            "2X5=10\n",
            "2X6=12\n",
            "2X7=14\n",
            "2X8=16\n",
            "2X9=18\n",
            "None\n"
          ]
        }
      ],
      "source": [
        "\n",
        "#question 1\n",
        "def multi_table(num):\n",
        "    for i in range(1,10):\n",
        "      print('{0}X{1}={2}'.format(num,i,num*i))\n",
        "\n",
        "if __name__ == '__main__' :\n",
        "  try:\n",
        "    num = int(input('Input an integer: '))\n",
        "    if (num % 2)==0 :\n",
        "      print(\"{0} is even\".format(num)) \n",
        "    else:\n",
        "      print(\"{0} is odd\".format(num)) \n",
        "  except ValueError:\n",
        "    print('Please enter a number')\n",
        "if (num % 2)==0 :\n",
        "  print (multi_table(num))\n",
        "else:\n",
        "  print (multi_table(num))\n"
      ]
    }
  ]
}