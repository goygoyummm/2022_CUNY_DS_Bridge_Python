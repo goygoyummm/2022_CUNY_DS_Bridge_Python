{
  "nbformat": 4,
  "nbformat_minor": 0,
  "metadata": {
    "colab": {
      "name": "Untitled5.ipynb",
      "provenance": []
    },
    "kernelspec": {
      "name": "python3",
      "display_name": "Python 3"
    },
    "language_info": {
      "name": "python"
    }
  },
  "cells": [
    {
      "cell_type": "code",
      "execution_count": null,
      "metadata": {
        "id": "nOSrpJ9lMCM3"
      },
      "outputs": [],
      "source": [
        "\n",
        "#question 1\n",
        "def multi_table(num):\n",
        "    for i in range(1,10):\n",
        "      print('{0}X{1}={2}'.format(num,i,num*i))\n",
        " \n",
        "num = int(input('Input an integer: '))\n",
        " \n",
        "if (num % 2)==0 :\n",
        "  print(\"{0} is even\".format(num)) \n",
        "else:\n",
        "  print(\"{0} is odd\".format(num)) \n",
        "if (num % 2)==0 :\n",
        "  print (multi_table(num))\n",
        "else:\n",
        "  print (multi_table(num))\n"
      ]
    }
  ]
}