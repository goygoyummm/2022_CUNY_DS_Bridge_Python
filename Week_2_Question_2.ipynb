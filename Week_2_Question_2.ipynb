{
  "nbformat": 4,
  "nbformat_minor": 0,
  "metadata": {
    "colab": {
      "name": "Week_2_Question_2.ipynb",
      "provenance": [],
      "authorship_tag": "ABX9TyP+fzGDwQczC593Oe5KLSVy",
      "include_colab_link": true
    },
    "kernelspec": {
      "name": "python3",
      "display_name": "Python 3"
    },
    "language_info": {
      "name": "python"
    }
  },
  "cells": [
    {
      "cell_type": "markdown",
      "metadata": {
        "id": "view-in-github",
        "colab_type": "text"
      },
      "source": [
        "<a href=\"https://colab.research.google.com/github/goygoyummm/2022_CUNY_DS_Bridge_Python/blob/main/Week_2_Question_2.ipynb\" target=\"_parent\"><img src=\"https://colab.research.google.com/assets/colab-badge.svg\" alt=\"Open In Colab\"/></a>"
      ]
    },
    {
      "cell_type": "code",
      "execution_count": 1,
      "metadata": {
        "colab": {
          "base_uri": "https://localhost:8080/"
        },
        "id": "_YR_8u1qSZ1-",
        "outputId": "4f2ac105-d990-4362-93b8-94c077cf401d"
      },
      "outputs": [
        {
          "output_type": "stream",
          "name": "stdout",
          "text": [
            "[[8 6]\n",
            " [4 6]\n",
            " [2 1]]\n",
            "[[-0.80479483  0.504722   -0.31234752]\n",
            " [-0.56757772 -0.808372    0.15617376]\n",
            " [-0.17366866  0.30296933  0.93704257]]\n",
            "[12.35735046  2.07265279]\n",
            "[[-0.73284374 -0.68039699]\n",
            " [ 0.68039699 -0.73284374]]\n"
          ]
        }
      ],
      "source": [
        "\n",
        "#Question #2\n",
        "#2.  Write a Python program to compute the factor of a given array by Singular Value Decomposition\n",
        "from numpy import array\n",
        "from numpy import diag\n",
        "from numpy import zeros\n",
        "from scipy.linalg import svd\n",
        "#define matrix\n",
        "A=array([\n",
        "[8,6],\n",
        "[4,6],\n",
        "[2,1]         \n",
        "])\n",
        "print(A)\n",
        "#factorize\n",
        "U,s,V=svd(A)\n",
        "print(U)\n",
        "print(s)\n",
        "print(V)"
      ]
    }
  ]
}