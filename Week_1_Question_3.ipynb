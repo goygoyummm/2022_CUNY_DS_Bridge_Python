{
  "nbformat": 4,
  "nbformat_minor": 0,
  "metadata": {
    "colab": {
      "name": "Week_1_Question_3.ipynb",
      "provenance": []
    },
    "kernelspec": {
      "name": "python3",
      "display_name": "Python 3"
    },
    "language_info": {
      "name": "python"
    }
  },
  "cells": [
    {
      "cell_type": "code",
      "execution_count": null,
      "metadata": {
        "id": "85NZzYQOC8O8",
        "colab": {
          "base_uri": "https://localhost:8080/"
        },
        "outputId": "a29bd8bd-14ae-4d6d-faf7-2fa66ae3e18a"
      },
      "outputs": [
        {
          "output_type": "stream",
          "name": "stdout",
          "text": [
            "1 2 3\n",
            "Mean donation over the last 3 days is 2.0\n",
            "Median donation over the last 3 days is 2\n",
            "The mode of the list of numbers is: 1\n",
            "The variance of the list of numbers is 0.6666666666666666\n",
            "The standard deviation of the list of numbers is 0.816496580927726\n"
          ]
        }
      ],
      "source": [
        " #Calculating the Mean\n",
        "def calculate_mean(numbers):\n",
        "  s=sum(numbers)\n",
        "  N=len(numbers)\n",
        "# Calculate the mean\n",
        "  mean=s/N\n",
        "\n",
        "  return mean\n",
        "\n",
        "def calculate_median(numbers):\n",
        "  N=len(numbers)\n",
        "  numbers.sort()\n",
        "  #FInd the Median\n",
        "  if N% 2 ==0:\n",
        "    #if N is even\n",
        "    m1=N/2\n",
        "    m2=(N/2)+1\n",
        "    #convert to integer, match position\n",
        "    m1=int(m1)-1\n",
        "    m2=int(m2)-1\n",
        "    median=(numbers[m1]+numbers[m2])/2\n",
        "  else:\n",
        "    m=(N+1)/2\n",
        "    #convert to integer, match position\n",
        "    m=int(m)-1\n",
        "    median=numbers[m]\n",
        "  return median\n",
        "\n",
        "\n",
        "from collections import Counter\n",
        "def calculate_mode(numbers):\n",
        "  c=Counter(numbers)\n",
        "  mode=c.most_common(1)\n",
        "  return mode[0][0]\n",
        "\n",
        "\n",
        "def find_differences(numbers):\n",
        "  #find the mean\n",
        "  mean=calculate_mean(numbers)\n",
        "  #find the differences from the mean\n",
        "  diff=[]\n",
        "  for num in numbers:\n",
        "    diff.append(num-mean)\n",
        "  return diff\n",
        "\n",
        "def calculate_variance(numbers):\n",
        "  #find the list of differences\n",
        "  diff=find_differences(numbers)\n",
        "  #find the squared differences\n",
        "  squared_diff=[]\n",
        "  for d in diff:\n",
        "      squared_diff.append(d**2)\n",
        "  #find the variance\n",
        "  sum_squared_diff=sum(squared_diff)\n",
        "  variance=sum_squared_diff/len(numbers)\n",
        "  return variance\n",
        "\n",
        "if __name__=='__main__':\n",
        "\n",
        "  ####This writes data in from txt file\n",
        "  filename = '/content/drive/MyDrive/ColabNotebooks/data.txt' \n",
        "\n",
        "  with open(filename) as file_object:\n",
        "    lines = file_object.readlines()\n",
        "  \n",
        "  for line in lines:\n",
        "    print(line)\n",
        "    donations_as_strings=line.split(\" \") # \" \" is you delimiter\n",
        "    #donations = map(int,donations_as_strings) # If using python 2.X\n",
        "    donations = list(map(int,donations_as_strings)) # if using python 3.X\n",
        "    # or just do this\n",
        "    #donations = [int(i) for i in donations_as_strings]\n",
        "    mean=calculate_mean(donations)\n",
        "    N= len(donations)\n",
        "    print('Mean donation over the last {0} days is {1}'.format(N,mean))\n",
        "\n",
        "    median=calculate_median(donations)\n",
        "    N=len(donations)\n",
        "    print('Median donation over the last {0} days is {1}'.format(N,median))\n",
        "\n",
        "    mode=calculate_mode(donations)\n",
        "    print('The mode of the list of numbers is: {0}'.format(mode))\n",
        "\n",
        "    variance=calculate_variance(donations)\n",
        "    print('The variance of the list of numbers is {0}'.format(variance))\n",
        "\n",
        "    std=variance**0.5\n",
        "    print('The standard deviation of the list of numbers is {0}'.format(std))\n",
        "\n",
        "\n",
        "\n",
        " "
      ]
    },
    {
      "cell_type": "code",
      "source": [
        ""
      ],
      "metadata": {
        "id": "geCsDWzJIZ9x"
      },
      "execution_count": null,
      "outputs": []
    },
    {
      "cell_type": "code",
      "source": [
        ""
      ],
      "metadata": {
        "id": "zMKKuZ8YIaYY"
      },
      "execution_count": null,
      "outputs": []
    },
    {
      "cell_type": "markdown",
      "source": [
        "# New Section"
      ],
      "metadata": {
        "id": "syYf_eR3A_rp"
      }
    },
    {
      "cell_type": "code",
      "source": [
        "er"
      ],
      "metadata": {
        "id": "PG4-Cf7ACUCQ"
      },
      "execution_count": null,
      "outputs": []
    },
    {
      "cell_type": "markdown",
      "source": [
        ""
      ],
      "metadata": {
        "id": "-QYzThMkIm8b"
      }
    },
    {
      "cell_type": "markdown",
      "source": [
        "# New Section"
      ],
      "metadata": {
        "id": "18KCFp7MBAWp"
      }
    },
    {
      "cell_type": "code",
      "source": [
        "from google.colab import drive\n",
        "drive.mount('/content/drive')"
      ],
      "metadata": {
        "colab": {
          "base_uri": "https://localhost:8080/"
        },
        "id": "M3KcS4dCBFUI",
        "outputId": "17a0a2c7-e955-4177-f4c7-735a34599288"
      },
      "execution_count": null,
      "outputs": [
        {
          "output_type": "stream",
          "name": "stdout",
          "text": [
            "Drive already mounted at /content/drive; to attempt to forcibly remount, call drive.mount(\"/content/drive\", force_remount=True).\n"
          ]
        }
      ]
    }
  ]
}