{
  "nbformat": 4,
  "nbformat_minor": 0,
  "metadata": {
    "colab": {
      "name": "Week_1_Question_4.ipynb",
      "provenance": [],
      "collapsed_sections": [],
      "authorship_tag": "ABX9TyNvNhlg8nwDHb9QYE5JYXx0",
      "include_colab_link": true
    },
    "kernelspec": {
      "name": "python3",
      "display_name": "Python 3"
    },
    "language_info": {
      "name": "python"
    }
  },
  "cells": [
    {
      "cell_type": "markdown",
      "metadata": {
        "id": "view-in-github",
        "colab_type": "text"
      },
      "source": [
        "<a href=\"https://colab.research.google.com/github/goygoyummm/2022_CUNY_DS_Bridge_Python/blob/main/Week_1_Question_4.ipynb\" target=\"_parent\"><img src=\"https://colab.research.google.com/assets/colab-badge.svg\" alt=\"Open In Colab\"/></a>"
      ]
    },
    {
      "cell_type": "code",
      "execution_count": null,
      "metadata": {
        "colab": {
          "base_uri": "https://localhost:8080/"
        },
        "id": "VzBAh_1XdDu9",
        "outputId": "c1de8476-249f-4b75-8828-6ed8a88901c4"
      },
      "outputs": [
        {
          "name": "stdout",
          "output_type": "stream",
          "text": [
            "Enter an inequality:10\n"
          ]
        }
      ],
      "source": [
        "### I struggled with this problem and the below is just the answer I found online which \n",
        "\n",
        "\n",
        "#from sympy import Symbol\n",
        "#x=Symbol('x')\n",
        "#x+x+1\n",
        "\n",
        "#from sympy import Symbol\n",
        "#a=Symbol('a')\n",
        "#b=Symbol('b')\n",
        "#c=Symbol('c')\n",
        "#a+b+c+c\n",
        "\n",
        "\n",
        "#from sympy import symbols\n",
        "#a,b,c=symbols('a,b,c')\n",
        "#z=a+b+c+c\n",
        "#z\n",
        "\n",
        "#from sympy import symbols\n",
        "#a,b,c=symbols('a,b,c')\n",
        "#y=(a+1)*(b+1)*(c+1)\n",
        "#y\n",
        "\n",
        "#from sympy import symbols\n",
        "#x,y=symbols('x,y')\n",
        "#from sympy import factor\n",
        "#expr=x**2-y**2\n",
        "#factor(expr)\n",
        "\n",
        "\n",
        "#from sympy import expand\n",
        "#factors=factor(expr)\n",
        "#expand(factors)\n",
        "\n",
        "#from sympy import symbols\n",
        "#x,y=symbols('x,y')\n",
        "#expr=x*x+2*x*y+y*y\n",
        "#print(expr)\n",
        "\n",
        "\n",
        "#from sympy import symbols, pprint\n",
        "#x,y=symbols('x,y')\n",
        "#expr=x*x+2*x*y+y*y\n",
        "#pprint(expr)\n",
        "\n",
        "#from sympy import Symbol, solve\n",
        "#x=Symbol('x')\n",
        "#expr=x-5-7\n",
        "#solve(expr)\n",
        "\n",
        "\n",
        "###solve polynomial\n",
        "#from sympy import Symbol,sympify,SympifyError,Poly, solve_poly_inequality\n",
        "#x=Symbol('x')\n",
        "#ineq_obj= -x**2 +4<0\n",
        "#lhs=ineq_obj.lhs\n",
        "#p=Poly(lhs,x)\n",
        "#rel=ineq_obj.rel_op\n",
        "#solve_poly_inequality(p,rel)\n",
        "\n",
        "\n",
        "###solve rational\n",
        "#from sympy import Symbol, Poly, solve_rational_inequalities\n",
        "#x=Symbol('x')\n",
        "#ineq_obj=((x-1)/(x+2))>0\n",
        "#lhs=ineq_obj.lhs\n",
        "#numer,denom=lhs.as_numer_denom()\n",
        "#p1=Poly(numer)\n",
        "#p2=Poly(denom)\n",
        "#rel=ineq_obj.rel_op\n",
        "#solve_rational_inequalities([[((p1,p2),rel)]])\n",
        "\n",
        "\n",
        "\n",
        "###solve \n",
        "from sympy import Symbol,sympify,SympifyError,Poly, solve_poly_inequality\n",
        "from sympy import Symbol, Poly, solve_rational_inequalities\n",
        "from sympy import solve_univariate_inequality,Poly\n",
        "from sympy.core.relational import Relational, Equality\n",
        "\n",
        "def isolve(ineq_obj):\n",
        "  x=Symbol('x')\n",
        "  \n",
        "  expr=ineq_obj.lhs\n",
        "  rel=ineq_obj.rel_op\n",
        "  \n",
        "  if expr.is_polynoimial():\n",
        "    p=Poly(lhs,x)\n",
        "    return solve_poly_inequality(p,rel)\n",
        "    \n",
        "  elif expr.is_rational_function():\n",
        "    p1,p2=expr.as_numer_denom()\n",
        "    num=Poly(p1)\n",
        "    denom=Poly(p2)\n",
        "    return solve_rational_inequalities([[(num,denom),rel]])\n",
        "  \n",
        "  else:\n",
        "    return solve_univariate_inequality(ineq_oj, x, relation=False)\n",
        "\n",
        "if __name__=='__main__':\n",
        "  ineq=input('Enter an inequality:')\n",
        "  try:\n",
        "      ineq_obj=sympify(ineq)\n",
        "  except SympifyError:\n",
        "    print('Invalid inequality')\n",
        "\n",
        "\n",
        "\n",
        "\n",
        "\n"
      ]
    },
    {
      "cell_type": "code",
      "source": [
        ""
      ],
      "metadata": {
        "id": "vqmDba7jf5A-"
      },
      "execution_count": null,
      "outputs": []
    }
  ]
}