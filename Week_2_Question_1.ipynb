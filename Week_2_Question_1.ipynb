{
  "nbformat": 4,
  "nbformat_minor": 0,
  "metadata": {
    "colab": {
      "name": "Week_2_Question_1.ipynb",
      "provenance": [],
      "authorship_tag": "ABX9TyMoHlCvsPzMUKGRUqczDnaj",
      "include_colab_link": true
    },
    "kernelspec": {
      "name": "python3",
      "display_name": "Python 3"
    },
    "language_info": {
      "name": "python"
    }
  },
  "cells": [
    {
      "cell_type": "markdown",
      "metadata": {
        "id": "view-in-github",
        "colab_type": "text"
      },
      "source": [
        "<a href=\"https://colab.research.google.com/github/goygoyummm/2022_CUNY_DS_Bridge_Python/blob/main/Week_2_Question_1.ipynb\" target=\"_parent\"><img src=\"https://colab.research.google.com/assets/colab-badge.svg\" alt=\"Open In Colab\"/></a>"
      ]
    },
    {
      "cell_type": "code",
      "execution_count": null,
      "metadata": {
        "id": "D4JaUgxCRmlC"
      },
      "outputs": [],
      "source": [
        "#Question #1\n",
        "#1.  Write a Python program to compute the eigenvalues and right eigenvectors of a given square array.\n",
        "# eigendecomposition\n",
        "from numpy import array\n",
        "from numpy.linalg import eig\n",
        "# define matrix\n",
        "A = array([\n",
        "[4, 8, 3, 4],\n",
        "[6, 26, 5, 7],\n",
        "[2, 11, 9, 5],\n",
        "[6, 7, 9, 6]])\n",
        "print(A)\n",
        "# factorize\n",
        "values, vectors = eig(A)\n",
        "print(values)\n",
        "print(vectors)"
      ]
    }
  ]
}