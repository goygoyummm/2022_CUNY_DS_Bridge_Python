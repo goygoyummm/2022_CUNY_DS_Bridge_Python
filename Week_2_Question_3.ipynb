{
  "nbformat": 4,
  "nbformat_minor": 0,
  "metadata": {
    "colab": {
      "name": "Week_2_Question_3.ipynb",
      "provenance": [],
      "authorship_tag": "ABX9TyPd6hXcd5MAWDNu7A0z619R",
      "include_colab_link": true
    },
    "kernelspec": {
      "name": "python3",
      "display_name": "Python 3"
    },
    "language_info": {
      "name": "python"
    }
  },
  "cells": [
    {
      "cell_type": "markdown",
      "metadata": {
        "id": "view-in-github",
        "colab_type": "text"
      },
      "source": [
        "<a href=\"https://colab.research.google.com/github/goygoyummm/2022_CUNY_DS_Bridge_Python/blob/main/Week_2_Question_3.ipynb\" target=\"_parent\"><img src=\"https://colab.research.google.com/assets/colab-badge.svg\" alt=\"Open In Colab\"/></a>"
      ]
    },
    {
      "cell_type": "code",
      "execution_count": 1,
      "metadata": {
        "colab": {
          "base_uri": "https://localhost:8080/"
        },
        "id": "evmm4kJpSlUn",
        "outputId": "ef652a24-e5ad-4c0e-d9a9-af59c3ef24d4"
      },
      "outputs": [
        {
          "output_type": "stream",
          "name": "stdout",
          "text": [
            "[[ 9  8  2]\n",
            " [11  5 26]\n",
            " [ 7  8  5]]\n",
            "-524.9999999999999\n"
          ]
        }
      ],
      "source": [
        "#3.  Write a Python program to compute the determinant of an array.\n",
        "# matrix determinant\n",
        "from numpy import array\n",
        "from numpy.linalg import det\n",
        "# define matrix\n",
        "A = array([\n",
        "[9, 8, 2],\n",
        "[11, 5, 26],\n",
        "[7, 8, 5]])\n",
        "print(A)\n",
        "# calculate determinant\n",
        "B = det(A)\n",
        "print(B)"
      ]
    }
  ]
}