{
  "nbformat": 4,
  "nbformat_minor": 0,
  "metadata": {
    "colab": {
      "name": "Week_1_Question_2.ipynb",
      "provenance": []
    },
    "kernelspec": {
      "name": "python3",
      "display_name": "Python 3"
    },
    "language_info": {
      "name": "python"
    }
  },
  "cells": [
    {
      "cell_type": "code",
      "execution_count": 2,
      "metadata": {
        "colab": {
          "base_uri": "https://localhost:8080/",
          "height": 439
        },
        "id": "31ceUH4ALZNU",
        "outputId": "4968c812-f921-4ade-e1e8-260a1be6bb69"
      },
      "outputs": [
        {
          "output_type": "stream",
          "name": "stdout",
          "text": [
            "x=1 y=4\n",
            "x=2 y=9\n",
            "x=3 y=16\n",
            "x=4 y=25\n",
            "x=5 y=36\n",
            "x=6 y=49\n",
            "x=7 y=64\n",
            "x=-1 y=0\n",
            "x=-3 y=4\n",
            "x=-2 y=1\n"
          ]
        },
        {
          "output_type": "display_data",
          "data": {
            "text/plain": [
              "<Figure size 432x288 with 1 Axes>"
            ],
            "image/png": "[encoded data removed]"
          },
          "metadata": {
            "needs_background": "light"
          }
        }
      ],
      "source": [
        "#Question 2\n",
        " \n",
        "import matplotlib.pyplot as plt\n",
        " \n",
        "x_values = {-3,-2,-1,1,2,3,4,5,6,7}\n",
        "for x in x_values:\n",
        "  #calculate the value of the quadratic function\n",
        "  y = x**2 + 2*x + 1\n",
        "  plt.plot(x,y,'.')\n",
        "  print('x={0} y={1}'.format(x, y))\n"
      ]
    }
  ]
}